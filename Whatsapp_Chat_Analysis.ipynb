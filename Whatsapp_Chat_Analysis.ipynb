{
  "nbformat": 4,
  "nbformat_minor": 0,
  "metadata": {
    "colab": {
      "name": "Whatsapp Chat Analysis.ipynb",
      "version": "0.3.2",
      "provenance": [],
      "collapsed_sections": [],
      "toc_visible": true,
      "include_colab_link": true
    },
    "kernelspec": {
      "name": "python3",
      "display_name": "Python 3"
    }
  },
  "cells": [
    {
      "cell_type": "markdown",
      "metadata": {
        "id": "view-in-github",
        "colab_type": "text"
      },
      "source": [
        "<a href=\"https://colab.research.google.com/github/jianzhiw/WhatsappChatAnalysis/blob/master/Whatsapp_Chat_Analysis.ipynb\" target=\"_parent\"><img src=\"https://colab.research.google.com/assets/colab-badge.svg\" alt=\"Open In Colab\"/></a>"
      ]
    },
    {
      "cell_type": "markdown",
      "metadata": {
        "id": "cBXkCImUfOwp",
        "colab_type": "text"
      },
      "source": [
        "# Whatsapp Chat Analysis #\n",
        "\n",
        "[Source](https://towardsdatascience.com/build-your-own-whatsapp-chat-analyzer-9590acca9014)"
      ]
    },
    {
      "cell_type": "markdown",
      "metadata": {
        "id": "OE6fPg1ndYdk",
        "colab_type": "text"
      },
      "source": [
        "Step 1: Detect date and time tokens"
      ]
    },
    {
      "cell_type": "code",
      "metadata": {
        "id": "XsLWw4rEcsSi",
        "colab_type": "code",
        "colab": {}
      },
      "source": [
        "def startsWithDateTime(s):\n",
        "  pattern = '^([0-2][0-9]|(3)[0-1])(\\/)(((0)[0-9])|((1)[0-2]))(\\/)(\\d{2}|\\d{4}), ([0-9][0-9]):([0-9][0-9]) -'\n",
        "  result = re.match(pattern, s)\n",
        "  if result:\n",
        "    return True\n",
        "  \n",
        "  return False"
      ],
      "execution_count": 0,
      "outputs": []
    },
    {
      "cell_type": "markdown",
      "metadata": {
        "id": "Z54QryCDd_Qj",
        "colab_type": "text"
      },
      "source": [
        "Step 2: Detect author tokens"
      ]
    },
    {
      "cell_type": "code",
      "metadata": {
        "id": "dgLJjl6ody-D",
        "colab_type": "code",
        "colab": {}
      },
      "source": [
        "def startsWithAuthor(s):\n",
        "  patterns = [\n",
        "    '([\\w]+):',                        # First Name\n",
        "    '([\\w]+[\\s]+[\\w]+):',              # First Name + Last Name\n",
        "    '([\\w]+[\\s]+[\\w]+[\\s]+[\\w]+):',    # First Name + Middle Name + Last Name\n",
        "    '([+]\\d{2} \\d{5} \\d{5}):',         # Mobile Number (India)\n",
        "    '([+]\\d{2} \\d{3} \\d{3} \\d{4}):',   # Mobile Number (US)\n",
        "    '([+]\\d{2} \\d{4} \\d{7})'           # Mobile Number (Europe)\n",
        "  ]\n",
        "  pattern = '^' + '|'.join(patterns)\n",
        "  result = re.match(pattern, s)\n",
        "  if result:\n",
        "    return True\n",
        "  \n",
        "  return False"
      ],
      "execution_count": 0,
      "outputs": []
    },
    {
      "cell_type": "markdown",
      "metadata": {
        "id": "Hy_9hwo8fHgo",
        "colab_type": "text"
      },
      "source": [
        "Step 3: Extracting and combining tokens"
      ]
    },
    {
      "cell_type": "code",
      "metadata": {
        "id": "OrRaLVF9e3y5",
        "colab_type": "code",
        "colab": {}
      },
      "source": [
        "def getDataPoint(line):\n",
        "  # line = 18/06/17, 22:47 - Loki: Why do you have 2 numbers, Banner?\n",
        "    \n",
        "  splitLine = line.split(' - ') # splitLine = ['18/06/17, 22:47', 'Loki: Why do you have 2 numbers, Banner?']\n",
        "    \n",
        "  dateTime = splitLine[0] # dateTime = '18/06/17, 22:47'\n",
        "    \n",
        "  date, time = dateTime.split(', ') # date = '18/06/17'; time = '22:47'\n",
        "    \n",
        "  message = ' '.join(splitLine[1:]) # message = 'Loki: Why do you have 2 numbers, Banner?'\n",
        "    \n",
        "  if startsWithAuthor(message): # True\n",
        "    splitMessage = message.split(': ') # splitMessage = ['Loki', 'Why do you have 2 numbers, Banner?']\n",
        "    author = splitMessage[0] # author = 'Loki'\n",
        "    message = ' '.join(splitMessage[1:]) # message = 'Why do you have 2 numbers, Banner?'\n",
        "  else:\n",
        "    author = None\n",
        "  return date, time, author, message"
      ],
      "execution_count": 0,
      "outputs": []
    },
    {
      "cell_type": "code",
      "metadata": {
        "id": "0PKSyVld2pGm",
        "colab_type": "code",
        "colab": {}
      },
      "source": [
        "from google.colab import drive\n",
        "drive.mount('/content/drive')"
      ],
      "execution_count": 0,
      "outputs": []
    },
    {
      "cell_type": "code",
      "metadata": {
        "id": "ni2TFD6V2M2o",
        "colab_type": "code",
        "colab": {}
      },
      "source": [
        "import re\n",
        "\n",
        "parsedData = [] # List to keep track of data so it can be used by a Pandas dataframe\n",
        "conversationPath = './drive/My Drive/GPT-2 Training/WhatsApp Chat with RMM.txt' \n",
        "with open(conversationPath, encoding=\"utf-8\") as fp:\n",
        "  fp.readline() # Skipping first line of the file (usually contains information about end-to-end encryption)\n",
        "        \n",
        "  messageBuffer = [] # Buffer to capture intermediate output for multi-line messages\n",
        "  date, time, author = None, None, None # Intermediate variables to keep track of the current message being processed\n",
        "    \n",
        "  while True:\n",
        "    line = fp.readline() \n",
        "    if not line: # Stop reading further if end of file has been reached\n",
        "      break\n",
        "    line = line.strip() # Guarding against erroneous leading and trailing whitespaces\n",
        "    if startsWithDateTime(line): # If a line starts with a Date Time pattern, then this indicates the beginning of a new message\n",
        "      if len(messageBuffer) > 0: # Check if the message buffer contains characters from previous iterations\n",
        "        parsedData.append([date, time, author, ' '.join(messageBuffer)]) # Save the tokens from the previous message in parsedData\n",
        "      messageBuffer.clear() # Clear the message buffer so that it can be used for the next message\n",
        "      date, time, author, message = getDataPoint(line) # Identify and extract tokens from the line\n",
        "      messageBuffer.append(message) # Append message to buffer\n",
        "    else:\n",
        "      messageBuffer.append(line) # If a line doesn't start with a Date Time pattern, then it is part of a multi-line message. So, just append to buffer\n"
      ],
      "execution_count": 0,
      "outputs": []
    },
    {
      "cell_type": "code",
      "metadata": {
        "id": "SeFOFo2U2iSI",
        "colab_type": "code",
        "colab": {}
      },
      "source": [
        "import pandas as pd\n",
        "\n",
        "df = pd.DataFrame(parsedData, columns=['Date', 'Time', 'Author', 'Message'])\n",
        "df.head"
      ],
      "execution_count": 0,
      "outputs": []
    },
    {
      "cell_type": "code",
      "metadata": {
        "id": "IgOi03dGHQeI",
        "colab_type": "code",
        "colab": {}
      },
      "source": [
        "df.describe()"
      ],
      "execution_count": 0,
      "outputs": []
    },
    {
      "cell_type": "markdown",
      "metadata": {
        "id": "u61GTnzWOLDd",
        "colab_type": "text"
      },
      "source": [
        "Who send the most text"
      ]
    },
    {
      "cell_type": "code",
      "metadata": {
        "id": "bWF3mB9tKUrW",
        "colab_type": "code",
        "colab": {}
      },
      "source": [
        "author_value_counts = df['Author'].value_counts() # Number of messages per author\n",
        "top_10_author_value_counts = author_value_counts.head(10) # Number of messages per author for the top 10 most active authors\n",
        "top_10_author_value_counts.plot.barh() # Plot a bar chart using pandas built-in plotting apis"
      ],
      "execution_count": 0,
      "outputs": []
    },
    {
      "cell_type": "markdown",
      "metadata": {
        "id": "5zW0mbb7OIne",
        "colab_type": "text"
      },
      "source": [
        "Deleted message"
      ]
    },
    {
      "cell_type": "code",
      "metadata": {
        "id": "fpEEfxJpOxdx",
        "colab_type": "code",
        "outputId": "fb1ee500-b776-4800-f567-4cd1f1f2c66e",
        "colab": {
          "base_uri": "https://localhost:8080/",
          "height": 51
        }
      },
      "source": [
        "deleted_messages_df = df[df['Message'] == 'This message was deleted']\n",
        "self_deleted_messages_df = df[df['Message'] == 'You deleted this message']\n",
        "print (\"Messages that others has deleted = \", deleted_messages_df['Message'].count())\n",
        "print (\"Messages that I have deleted = \", self_deleted_messages_df['Message'].count())"
      ],
      "execution_count": 0,
      "outputs": [
        {
          "output_type": "stream",
          "text": [
            "Messages that others has deleted =  26\n",
            "Messages that I have deleted =  5\n"
          ],
          "name": "stdout"
        }
      ]
    },
    {
      "cell_type": "markdown",
      "metadata": {
        "id": "zOFLHz3lPpdl",
        "colab_type": "text"
      },
      "source": [
        "Media message"
      ]
    },
    {
      "cell_type": "code",
      "metadata": {
        "id": "4F7P4UaPN62A",
        "colab_type": "code",
        "colab": {}
      },
      "source": [
        "media_messages_df = df[df['Message'] == '<Media omitted>']\n",
        "print(media_messages_df.head())\n",
        "\n",
        "author_media_messages_value_counts = media_messages_df['Author'].value_counts()\n",
        "top_10_author_media_messages_value_counts = author_media_messages_value_counts.head(10)\n",
        "top_10_author_media_messages_value_counts.plot.barh()"
      ],
      "execution_count": 0,
      "outputs": []
    },
    {
      "cell_type": "markdown",
      "metadata": {
        "id": "lU-gg_b6OXlE",
        "colab_type": "text"
      },
      "source": [
        "Is there any null author?"
      ]
    },
    {
      "cell_type": "code",
      "metadata": {
        "id": "iWeGvfuuN_1F",
        "colab_type": "code",
        "colab": {}
      },
      "source": [
        "null_authors_df = df[df['Author'].isnull()]\n",
        "null_authors_df.head()"
      ],
      "execution_count": 0,
      "outputs": []
    },
    {
      "cell_type": "markdown",
      "metadata": {
        "id": "11MMQORKOm30",
        "colab_type": "text"
      },
      "source": [
        "Remove media and null author"
      ]
    },
    {
      "cell_type": "code",
      "metadata": {
        "id": "falrDFsYObBN",
        "colab_type": "code",
        "colab": {}
      },
      "source": [
        "print(\"Before\", df.shape[0])\n",
        "messages_df = df.drop(null_authors_df.index) # Drops all rows of the data frame containing messages from null authors\n",
        "messages_df = messages_df.drop(media_messages_df.index) # Drops all rows of the data frame containing media messages\n",
        "messages_df = messages_df.drop(deleted_messages_df.index) # Drop deleted messages\n",
        "messages_df = messages_df.drop(self_deleted_messages_df.index) #Drop self deleted messages\n",
        "messages_df = messages_df.reset_index(drop=True)\n",
        "\n",
        "print(\"After\", messages_df.shape[0])"
      ],
      "execution_count": 0,
      "outputs": []
    },
    {
      "cell_type": "markdown",
      "metadata": {
        "id": "AOaW48KkIKra",
        "colab_type": "text"
      },
      "source": [
        "Import into txt (for OpenAI GPT-2) by appending the conversation into text file"
      ]
    },
    {
      "cell_type": "code",
      "metadata": {
        "id": "Gld0QWH9265B",
        "colab_type": "code",
        "colab": {}
      },
      "source": [
        "for x in range (0, messages_df.shape[0] - 1):\n",
        "  with open(\"result.txt\", \"a\") as text_file:\n",
        "    print(messages_df['Author'][x] + \": \" + messages_df['Message'][x], end=\"\\r\\n\", file=text_file)"
      ],
      "execution_count": 0,
      "outputs": []
    },
    {
      "cell_type": "markdown",
      "metadata": {
        "id": "QfC8jKobSHjx",
        "colab_type": "text"
      },
      "source": [
        "Apply letter and word count"
      ]
    },
    {
      "cell_type": "code",
      "metadata": {
        "id": "O2oE2-j2Oeet",
        "colab_type": "code",
        "colab": {}
      },
      "source": [
        "messages_df['Letter_Count'] = messages_df['Message'].apply(lambda s : len(s))\n",
        "messages_df['Word_Count'] = messages_df['Message'].apply(lambda s : len(s.split(' ')))"
      ],
      "execution_count": 0,
      "outputs": []
    },
    {
      "cell_type": "code",
      "metadata": {
        "id": "EATrGWBTOigN",
        "colab_type": "code",
        "colab": {}
      },
      "source": [
        "messages_df['Letter_Count'].sum(), messages_df['Word_Count'].sum()"
      ],
      "execution_count": 0,
      "outputs": []
    },
    {
      "cell_type": "markdown",
      "metadata": {
        "id": "F_dblIZLU9hx",
        "colab_type": "text"
      },
      "source": [
        "Total word"
      ]
    },
    {
      "cell_type": "code",
      "metadata": {
        "id": "d0XgMMqtSnnK",
        "colab_type": "code",
        "colab": {}
      },
      "source": [
        "import matplotlib.pyplot as plt\n",
        "total_word_count_grouped_by_author = messages_df[['Author', 'Word_Count']].groupby('Author').sum()\n",
        "sorted_total_word_count_grouped_by_author = total_word_count_grouped_by_author.sort_values('Word_Count', ascending=False)\n",
        "top_10_sorted_total_word_count_grouped_by_author = sorted_total_word_count_grouped_by_author.head(10)\n",
        "top_10_sorted_total_word_count_grouped_by_author.plot.barh()\n",
        "plt.xlabel('Number of Words')\n",
        "plt.ylabel('Authors')"
      ],
      "execution_count": 0,
      "outputs": []
    },
    {
      "cell_type": "markdown",
      "metadata": {
        "id": "8q7X5e7WUydA",
        "colab_type": "text"
      },
      "source": [
        "Most common number of words in a message"
      ]
    },
    {
      "cell_type": "code",
      "metadata": {
        "id": "tkoiOsTgUWAJ",
        "colab_type": "code",
        "colab": {}
      },
      "source": [
        "plt.figure(figsize=(15, 2)) # To ensure that the bar plot fits in the output cell of a Jupyter notebook\n",
        "word_count_value_counts = messages_df['Word_Count'].value_counts()\n",
        "top_40_word_count_value_counts = word_count_value_counts.head(40)\n",
        "top_40_word_count_value_counts.plot.bar()\n",
        "plt.xlabel('Word Count')\n",
        "plt.ylabel('Frequency')"
      ],
      "execution_count": 0,
      "outputs": []
    },
    {
      "cell_type": "markdown",
      "metadata": {
        "id": "Gmwtx-NzU_rh",
        "colab_type": "text"
      },
      "source": [
        "Total Letter"
      ]
    },
    {
      "cell_type": "code",
      "metadata": {
        "id": "fLmrS6HSUp65",
        "colab_type": "code",
        "colab": {}
      },
      "source": [
        "total_letter_count_grouped_by_author = messages_df[['Author', 'Letter_Count']].groupby('Author').sum()\n",
        "sorted_total_letter_count_grouped_by_author = total_letter_count_grouped_by_author.sort_values('Letter_Count', ascending=False)\n",
        "top_10_sorted_total_letter_count_grouped_by_author = sorted_total_letter_count_grouped_by_author.head(10)\n",
        "top_10_sorted_total_letter_count_grouped_by_author.plot.barh()\n",
        "plt.xlabel('Number of Letters')\n",
        "plt.ylabel('Authors')"
      ],
      "execution_count": 0,
      "outputs": []
    },
    {
      "cell_type": "markdown",
      "metadata": {
        "id": "RwsiJz_iVGmS",
        "colab_type": "text"
      },
      "source": [
        "Most common number of letter"
      ]
    },
    {
      "cell_type": "code",
      "metadata": {
        "id": "nX96MoNCVDKh",
        "colab_type": "code",
        "colab": {}
      },
      "source": [
        "plt.figure(figsize=(15, 2))\n",
        "letter_count_value_counts = messages_df['Letter_Count'].value_counts()\n",
        "top_40_letter_count_value_counts = letter_count_value_counts.head(40)\n",
        "top_40_letter_count_value_counts.plot.bar()\n",
        "plt.xlabel('Letter count')\n",
        "plt.ylabel('Frequency')"
      ],
      "execution_count": 0,
      "outputs": []
    },
    {
      "cell_type": "markdown",
      "metadata": {
        "id": "7QsEMKtgVOGR",
        "colab_type": "text"
      },
      "source": [
        "Number of messages by date"
      ]
    },
    {
      "cell_type": "code",
      "metadata": {
        "id": "23ynCTlNVFoa",
        "colab_type": "code",
        "colab": {}
      },
      "source": [
        "messages_df['Date'].value_counts().head(10).plot.barh() # Top 10 Dates on which the most number of messages were sent\n",
        "plt.xlabel('Number of Messages')\n",
        "plt.ylabel('Date')"
      ],
      "execution_count": 0,
      "outputs": []
    },
    {
      "cell_type": "markdown",
      "metadata": {
        "id": "d3whecwzVVKK",
        "colab_type": "text"
      },
      "source": [
        "Number of messages by time"
      ]
    },
    {
      "cell_type": "code",
      "metadata": {
        "id": "s6BsBoZTVMTC",
        "colab_type": "code",
        "colab": {}
      },
      "source": [
        "messages_df['Time'].value_counts().head(10).plot.barh() # Top 10 Times of the day at which the most number of messages were sent\n",
        "plt.xlabel('Number of messages')\n",
        "plt.ylabel('Time')"
      ],
      "execution_count": 0,
      "outputs": []
    },
    {
      "cell_type": "markdown",
      "metadata": {
        "id": "xSWLEfoDVeKK",
        "colab_type": "text"
      },
      "source": [
        "Number of messages by hour"
      ]
    },
    {
      "cell_type": "code",
      "metadata": {
        "id": "WtDG3OMoVW-q",
        "colab_type": "code",
        "colab": {}
      },
      "source": [
        "messages_df['Hour'] = messages_df['Time'].apply(lambda x : x.split(':')[0]) # The first token of a value in the Time Column contains the hour (Eg., \"20\" in \"20:15\")\n",
        "\n",
        "messages_df['Hour'].value_counts().head(10).sort_index(ascending=False).plot.barh() # Top 10 Hours of the day during which the most number of messages were sent\n",
        "plt.xlabel('Number of messages')\n",
        "plt.ylabel('Hour of Day')"
      ],
      "execution_count": 0,
      "outputs": []
    },
    {
      "cell_type": "code",
      "metadata": {
        "id": "JZnxUQKDVgeq",
        "colab_type": "code",
        "colab": {}
      },
      "source": [
        ""
      ],
      "execution_count": 0,
      "outputs": []
    }
  ]
}